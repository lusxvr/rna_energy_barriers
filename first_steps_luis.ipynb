{
 "cells": [
  {
   "cell_type": "code",
   "execution_count": 2,
   "metadata": {},
   "outputs": [
    {
     "data": {
      "text/plain": [
       "array([[0, 0, 0, 0, 0, 0, 1, 1, 1, 2, 3, 3, 4],\n",
       "       [0, 0, 0, 0, 0, 0, 1, 1, 1, 2, 2, 3, 4],\n",
       "       [0, 0, 0, 0, 0, 0, 1, 1, 1, 1, 2, 3, 4],\n",
       "       [0, 0, 0, 0, 0, 0, 0, 0, 0, 1, 2, 3, 3],\n",
       "       [0, 0, 0, 0, 0, 0, 0, 0, 0, 1, 2, 2, 2],\n",
       "       [0, 0, 0, 0, 0, 0, 0, 0, 0, 1, 1, 1, 1],\n",
       "       [0, 0, 0, 0, 0, 0, 0, 0, 0, 0, 0, 0, 0],\n",
       "       [0, 0, 0, 0, 0, 0, 0, 0, 0, 0, 0, 0, 0],\n",
       "       [0, 0, 0, 0, 0, 0, 0, 0, 0, 0, 0, 0, 0],\n",
       "       [0, 0, 0, 0, 0, 0, 0, 0, 0, 0, 0, 0, 0],\n",
       "       [0, 0, 0, 0, 0, 0, 0, 0, 0, 0, 0, 0, 0],\n",
       "       [0, 0, 0, 0, 0, 0, 0, 0, 0, 0, 0, 0, 0],\n",
       "       [0, 0, 0, 0, 0, 0, 0, 0, 0, 0, 0, 0, 0]])"
      ]
     },
     "execution_count": 2,
     "metadata": {},
     "output_type": "execute_result"
    }
   ],
   "source": [
    "import utils\n",
    "utils.nussinov_base_pair_maximization_unambiguous(\"GGGGAACAAUUCC\", m=3)"
   ]
  },
  {
   "cell_type": "code",
   "execution_count": 3,
   "metadata": {},
   "outputs": [
    {
     "data": {
      "text/plain": [
       "'((((...))((...).)).)'"
      ]
     },
     "execution_count": 3,
     "metadata": {},
     "output_type": "execute_result"
    }
   ],
   "source": [
    "utils.bplist2db(20,[(0,19),(1,17),(2,8),(3,7),(9,16),(10,14)])"
   ]
  },
  {
   "cell_type": "markdown",
   "metadata": {},
   "source": [
    "The Vienna RNA package provides some ways to quickly plot RNA secondary structures. The following code requires the package (installable by `pip install viennarna`) and writes the plot of an example RNA to the file `tmp.svg` before showing it in the notebook. Use it to vizualise your results."
   ]
  },
  {
   "cell_type": "code",
   "execution_count": 1,
   "metadata": {},
   "outputs": [
    {
     "data": {
      "image/svg+xml": [
       "<svg xmlns=\"http://www.w3.org/2000/svg\" height=\"452\" width=\"452\">\n",
       "  <script type=\"text/ecmascript\">\n",
       "    <![CDATA[\n",
       "      var shown = 1;\n",
       "      function click() {\n",
       "        var seq = document.getElementById(\"seq\");\n",
       "        if (shown==1) {\n",
       "          seq.setAttribute(\"style\", \"visibility: hidden\");\n",
       "          shown = 0;\n",
       "        } else {\n",
       "          seq.setAttribute(\"style\", \"visibility: visible\");\n",
       "          shown = 1;\n",
       "        }\n",
       "      }\n",
       "    ]]>\n",
       "  </script>\n",
       "  <style type=\"text/css\">\n",
       "    <![CDATA[\n",
       "      .nucleotide {\n",
       "        font-family: SansSerif;\n",
       "      }\n",
       "      .backbone {\n",
       "        stroke: grey;\n",
       "        fill:   none;\n",
       "        stroke-width: 1.5;\n",
       "      }\n",
       "      .basepairs {\n",
       "        stroke: red;\n",
       "        fill:   none;\n",
       "        stroke-width: 2.5;\n",
       "      }\n",
       "    ]]>\n",
       "  </style>\n",
       "\n",
       "  <rect style=\"stroke: white; fill: white\" height=\"452\" x=\"0\" y=\"0\" width=\"452\" onclick=\"click(evt)\"/>\n",
       "  <g transform=\"scale(3.674797,3.674797) translate(-31.500000,-45.500000)\">\n",
       "    <polyline class=\"backbone\" id=\"outline\" points=\"       101.804,69.713       99.846,84.584       96.920,99.296       86.313,109.903       71.824,113.785       54.960,112.044       48.619,127.768       61.972,138.214       75.707,128.274       90.196,124.392       104.400,129.213       112.733,141.685       115.416,158.426       132.245,160.481       138.879,144.879       125.724,134.185       125.041,125.819       116.300,120.082       111.409,103.178       117.289,94.533       114.718,86.542       116.676,71.671       121.362,52.864     \"/>\n",
       "    <g id=\"pairs\">\n",
       "      <line class=\"basepairs\" id=\"1,22\" x1=\"101.80424\" y1=\"69.71269\" x2=\"116.67590\" y2=\"71.67058\"/>\n",
       "      <line class=\"basepairs\" id=\"2,21\" x1=\"99.84634\" y1=\"84.58437\" x2=\"114.71802\" y2=\"86.54226\"/>\n",
       "      <line class=\"basepairs\" id=\"3,19\" x1=\"96.91998\" y1=\"99.29614\" x2=\"111.40887\" y2=\"103.17843\"/>\n",
       "      <line class=\"basepairs\" id=\"4,10\" x1=\"86.31339\" y1=\"109.90275\" x2=\"90.19567\" y2=\"124.39163\"/>\n",
       "      <line class=\"basepairs\" id=\"5,9\" x1=\"71.82449\" y1=\"113.78503\" x2=\"75.70678\" y2=\"128.27393\"/>\n",
       "      <line class=\"basepairs\" id=\"11,18\" x1=\"104.39962\" y1=\"129.21323\" x2=\"116.29992\" y2=\"120.08180\"/>\n",
       "      <line class=\"basepairs\" id=\"12,16\" x1=\"112.73318\" y1=\"141.68527\" x2=\"125.72356\" y2=\"134.18527\"/>\n",
       "    </g>\n",
       "    <g transform=\"translate(-4.6, 4)\" id=\"seq\">\n",
       "      <text class=\"nucleotide\" x=\"101.804\" y=\"69.713\">C</text>\n",
       "      <text class=\"nucleotide\" x=\"99.846\" y=\"84.584\">G</text>\n",
       "      <text class=\"nucleotide\" x=\"96.920\" y=\"99.296\">C</text>\n",
       "      <text class=\"nucleotide\" x=\"86.313\" y=\"109.903\">A</text>\n",
       "      <text class=\"nucleotide\" x=\"71.824\" y=\"113.785\">G</text>\n",
       "      <text class=\"nucleotide\" x=\"54.960\" y=\"112.044\">U</text>\n",
       "      <text class=\"nucleotide\" x=\"48.619\" y=\"127.768\">A</text>\n",
       "      <text class=\"nucleotide\" x=\"61.972\" y=\"138.214\">A</text>\n",
       "      <text class=\"nucleotide\" x=\"75.707\" y=\"128.274\">C</text>\n",
       "      <text class=\"nucleotide\" x=\"90.196\" y=\"124.392\">U</text>\n",
       "      <text class=\"nucleotide\" x=\"104.400\" y=\"129.213\">G</text>\n",
       "      <text class=\"nucleotide\" x=\"112.733\" y=\"141.685\">G</text>\n",
       "      <text class=\"nucleotide\" x=\"115.416\" y=\"158.426\">A</text>\n",
       "      <text class=\"nucleotide\" x=\"132.245\" y=\"160.481\">U</text>\n",
       "      <text class=\"nucleotide\" x=\"138.879\" y=\"144.879\">G</text>\n",
       "      <text class=\"nucleotide\" x=\"125.724\" y=\"134.185\">C</text>\n",
       "      <text class=\"nucleotide\" x=\"125.041\" y=\"125.819\">U</text>\n",
       "      <text class=\"nucleotide\" x=\"116.300\" y=\"120.082\">C</text>\n",
       "      <text class=\"nucleotide\" x=\"111.409\" y=\"103.178\">G</text>\n",
       "      <text class=\"nucleotide\" x=\"117.289\" y=\"94.533\">A</text>\n",
       "      <text class=\"nucleotide\" x=\"114.718\" y=\"86.542\">C</text>\n",
       "      <text class=\"nucleotide\" x=\"116.676\" y=\"71.671\">G</text>\n",
       "      <text class=\"nucleotide\" x=\"121.362\" y=\"52.864\">U</text>\n",
       "    </g>\n",
       "  </g>\n",
       "<script type=\"text/ecmascript\">\n",
       "<![CDATA[\n",
       "  let sequence = \"CGCAGUAACUGGAUGCUCGACGU\";\n",
       "  let structure = \"(((((...))((...).)).)).\";\n",
       "  const basepairs = [\n",
       "    { i: 1, j: 22, type: \"cWW\" },\n",
       "    { i: 2, j: 21, type: \"cWW\" },\n",
       "    { i: 3, j: 19, type: \"cWW\" },\n",
       "    { i: 4, j: 10, type: \"cWW\" },\n",
       "    { i: 5, j: 9, type: \"cWW\" },\n",
       "    { i: 11, j: 18, type: \"cWW\" },\n",
       "    { i: 12, j: 16, type: \"cWW\" }];\n",
       "  const coords = [\n",
       "    { x: 101.804, y: 69.713 },\n",
       "    { x: 99.846, y: 84.584 },\n",
       "    { x: 96.920, y: 99.296 },\n",
       "    { x: 86.313, y: 109.903 },\n",
       "    { x: 71.824, y: 113.785 },\n",
       "    { x: 54.960, y: 112.044 },\n",
       "    { x: 48.619, y: 127.768 },\n",
       "    { x: 61.972, y: 138.214 },\n",
       "    { x: 75.707, y: 128.274 },\n",
       "    { x: 90.196, y: 124.392 },\n",
       "    { x: 104.400, y: 129.213 },\n",
       "    { x: 112.733, y: 141.685 },\n",
       "    { x: 115.416, y: 158.426 },\n",
       "    { x: 132.245, y: 160.481 },\n",
       "    { x: 138.879, y: 144.879 },\n",
       "    { x: 125.724, y: 134.185 },\n",
       "    { x: 125.041, y: 125.819 },\n",
       "    { x: 116.300, y: 120.082 },\n",
       "    { x: 111.409, y: 103.178 },\n",
       "    { x: 117.289, y: 94.533 },\n",
       "    { x: 114.718, y: 86.542 },\n",
       "    { x: 116.676, y: 71.671 },\n",
       "    { x: 121.362, y: 52.864 }];\n",
       "]]>\n",
       "</script>\n",
       "</svg>"
      ],
      "text/plain": [
       "<IPython.core.display.SVG object>"
      ]
     },
     "execution_count": 1,
     "metadata": {},
     "output_type": "execute_result"
    }
   ],
   "source": [
    "import RNA\n",
    "from IPython.display import SVG\n",
    "\n",
    "sequence  = 'CGCAGUAACUGGAUGCUCGACGU'\n",
    "structure = '(((((...))((...).)).)).'\n",
    "\n",
    "RNA.svg_rna_plot(sequence, structure=structure, ssfile=\"tmp.svg\")\n",
    "SVG(\"tmp.svg\")"
   ]
  }
 ],
 "metadata": {
  "kernelspec": {
   "display_name": "bio_seq",
   "language": "python",
   "name": "python3"
  },
  "language_info": {
   "codemirror_mode": {
    "name": "ipython",
    "version": 3
   },
   "file_extension": ".py",
   "mimetype": "text/x-python",
   "name": "python",
   "nbconvert_exporter": "python",
   "pygments_lexer": "ipython3",
   "version": "3.12.8"
  }
 },
 "nbformat": 4,
 "nbformat_minor": 2
}
