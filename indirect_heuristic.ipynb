{
 "cells": [
  {
   "cell_type": "markdown",
   "metadata": {},
   "source": [
    "**Calculating free energy and probabilities**"
   ]
  },
  {
   "cell_type": "code",
   "execution_count": 7,
   "metadata": {},
   "outputs": [],
   "source": [
    "from IPython.display import SVG\n",
    "import RNA\n",
    "import math\n",
    "import random"
   ]
  },
  {
   "cell_type": "code",
   "execution_count": 8,
   "metadata": {},
   "outputs": [],
   "source": [
    "# Global constants (R in kcal/(mol*K), T in Kelvin)\n",
    "R_CONST = 0.0019872   # kcal/(mol*K)\n",
    "T_CONST = 310.15      # ~37°C"
   ]
  },
  {
   "cell_type": "code",
   "execution_count": 4,
   "metadata": {},
   "outputs": [
    {
     "name": "stdout",
     "output_type": "stream",
     "text": [
      "Free energy: 6.40 kcal/mol\n"
     ]
    }
   ],
   "source": [
    "# Create a fold compound for an RNA sequence\n",
    "seq = \"GCGCGAUACG\"\n",
    "fc = RNA.fold_compound(seq)\n",
    "\n",
    "# Define a test structure (dot-bracket notation)\n",
    "struct = \"((....))..\"\n",
    "\n",
    "# Evaluate the free energy of the structure\n",
    "energy = fc.eval_structure(struct)\n",
    "print(\"Free energy: {:.2f} kcal/mol\".format(energy))"
   ]
  },
  {
   "cell_type": "code",
   "execution_count": 5,
   "metadata": {},
   "outputs": [
    {
     "data": {
      "image/svg+xml": [
       "<svg xmlns=\"http://www.w3.org/2000/svg\" height=\"452\" width=\"452\">\n",
       "  <script type=\"text/ecmascript\">\n",
       "    <![CDATA[\n",
       "      var shown = 1;\n",
       "      function click() {\n",
       "        var seq = document.getElementById(\"seq\");\n",
       "        if (shown==1) {\n",
       "          seq.setAttribute(\"style\", \"visibility: hidden\");\n",
       "          shown = 0;\n",
       "        } else {\n",
       "          seq.setAttribute(\"style\", \"visibility: visible\");\n",
       "          shown = 1;\n",
       "        }\n",
       "      }\n",
       "    ]]>\n",
       "  </script>\n",
       "  <style type=\"text/css\">\n",
       "    <![CDATA[\n",
       "      .nucleotide {\n",
       "        font-family: SansSerif;\n",
       "      }\n",
       "      .backbone {\n",
       "        stroke: grey;\n",
       "        fill:   none;\n",
       "        stroke-width: 1.5;\n",
       "      }\n",
       "      .basepairs {\n",
       "        stroke: red;\n",
       "        fill:   none;\n",
       "        stroke-width: 2.5;\n",
       "      }\n",
       "    ]]>\n",
       "  </style>\n",
       "\n",
       "  <rect style=\"stroke: white; fill: white\" height=\"452\" x=\"0\" y=\"0\" width=\"452\" onclick=\"click(evt)\"/>\n",
       "  <g transform=\"scale(6.108108,6.108108) translate(-50.500000,-43.500000)\">\n",
       "    <polyline class=\"backbone\" id=\"outline\" points=\"       88.670,64.757       80.561,77.376       65.744,84.406       64.694,100.771       78.490,109.637       92.940,101.883       93.179,85.486       101.289,72.867       111.618,63.739       106.453,50.958     \"/>\n",
       "    <g id=\"pairs\">\n",
       "      <line class=\"basepairs\" id=\"1,8\" x1=\"88.67012\" y1=\"64.75722\" x2=\"101.28892\" y2=\"72.86683\"/>\n",
       "      <line class=\"basepairs\" id=\"2,7\" x1=\"80.56050\" y1=\"77.37601\" x2=\"93.17931\" y2=\"85.48563\"/>\n",
       "    </g>\n",
       "    <g transform=\"translate(-4.6, 4)\" id=\"seq\">\n",
       "      <text class=\"nucleotide\" x=\"88.670\" y=\"64.757\">G</text>\n",
       "      <text class=\"nucleotide\" x=\"80.561\" y=\"77.376\">C</text>\n",
       "      <text class=\"nucleotide\" x=\"65.744\" y=\"84.406\">G</text>\n",
       "      <text class=\"nucleotide\" x=\"64.694\" y=\"100.771\">C</text>\n",
       "      <text class=\"nucleotide\" x=\"78.490\" y=\"109.637\">G</text>\n",
       "      <text class=\"nucleotide\" x=\"92.940\" y=\"101.883\">A</text>\n",
       "      <text class=\"nucleotide\" x=\"93.179\" y=\"85.486\">U</text>\n",
       "      <text class=\"nucleotide\" x=\"101.289\" y=\"72.867\">A</text>\n",
       "      <text class=\"nucleotide\" x=\"111.618\" y=\"63.739\">C</text>\n",
       "      <text class=\"nucleotide\" x=\"106.453\" y=\"50.958\">G</text>\n",
       "    </g>\n",
       "  </g>\n",
       "<script type=\"text/ecmascript\">\n",
       "<![CDATA[\n",
       "  let sequence = \"GCGCGAUACG\";\n",
       "  let structure = \"((....))..\";\n",
       "  const basepairs = [\n",
       "    { i: 1, j: 8, type: \"cWW\" },\n",
       "    { i: 2, j: 7, type: \"cWW\" }];\n",
       "  const coords = [\n",
       "    { x: 88.670, y: 64.757 },\n",
       "    { x: 80.561, y: 77.376 },\n",
       "    { x: 65.744, y: 84.406 },\n",
       "    { x: 64.694, y: 100.771 },\n",
       "    { x: 78.490, y: 109.637 },\n",
       "    { x: 92.940, y: 101.883 },\n",
       "    { x: 93.179, y: 85.486 },\n",
       "    { x: 101.289, y: 72.867 },\n",
       "    { x: 111.618, y: 63.739 },\n",
       "    { x: 106.453, y: 50.958 }];\n",
       "]]>\n",
       "</script>\n",
       "</svg>"
      ],
      "text/plain": [
       "<IPython.core.display.SVG object>"
      ]
     },
     "execution_count": 5,
     "metadata": {},
     "output_type": "execute_result"
    }
   ],
   "source": [
    "RNA.svg_rna_plot(seq, structure=struct, ssfile=\"tmp.svg\")\n",
    "SVG(\"tmp.svg\")"
   ]
  },
  {
   "cell_type": "code",
   "execution_count": 29,
   "metadata": {},
   "outputs": [],
   "source": [
    "def is_complementary(a, b):\n",
    "    \"\"\"Check if bases a and b are complementary.\"\"\"\n",
    "    valid_pairs = {('A','U'), ('U','A'), ('G','C'), ('C','G'), ('G','U'), ('U','G')}\n",
    "    return (a, b) in valid_pairs"
   ]
  },
  {
   "cell_type": "code",
   "execution_count": 30,
   "metadata": {},
   "outputs": [],
   "source": [
    "def dotbracket_to_pt(structure):\n",
    "    \"\"\"\n",
    "    Convert a dot-bracket string to a pair table.\n",
    "    Returns a list 'pt' of length n+1 (1-indexed; pt[0] is unused).\n",
    "    For each i (1-indexed), pt[i] = j if base i is paired with j, else 0.\n",
    "    \"\"\"\n",
    "    n = len(structure)\n",
    "    pt = [0]*(n+1)\n",
    "    stack = []\n",
    "    for i, char in enumerate(structure, start=1):\n",
    "        if char == '(':\n",
    "            stack.append(i)\n",
    "        elif char == ')':\n",
    "            if stack:\n",
    "                j = stack.pop()\n",
    "                pt[i] = j\n",
    "                pt[j] = i\n",
    "    return pt"
   ]
  },
  {
   "cell_type": "code",
   "execution_count": 31,
   "metadata": {},
   "outputs": [
    {
     "data": {
      "text/plain": [
       "[0, 8, 7, 0, 0, 0, 0, 2, 1, 0, 0]"
      ]
     },
     "execution_count": 31,
     "metadata": {},
     "output_type": "execute_result"
    }
   ],
   "source": [
    "dotbracket_to_pt(\"((....))..\")"
   ]
  },
  {
   "cell_type": "code",
   "execution_count": 32,
   "metadata": {},
   "outputs": [],
   "source": [
    "def generate_moves(seq, structure):\n",
    "    \"\"\"\n",
    "    Given a sequence and a current structure (in dot-bracket notation),\n",
    "    generate every valid outcome with one base move (either addition or removal of a single base pair).\n",
    "    \n",
    "    Returns a list of tuples: (new_structure, move_type, (i, j))\n",
    "    where move_type is either 'add' or 'remove', and (i, j) indicates the base pair changed.\n",
    "    Positions are 1-indexed.\n",
    "    \"\"\"\n",
    "    moves = []\n",
    "    n = len(structure)\n",
    "    # Convert structure to a pair table (1-indexed)\n",
    "    pt = dotbracket_to_pt(structure)\n",
    "    \n",
    "    # --- Removal moves: remove an existing base pair ---\n",
    "    # For every base i that is paired (and to avoid duplicates, ensure i < pt[i])\n",
    "    for i in range(1, n+1):\n",
    "        j = pt[i]\n",
    "        if j > i:\n",
    "            # Create new structure by removing the pair (i, j)\n",
    "            new_struct = list(structure)\n",
    "            new_struct[i-1] = '.'\n",
    "            new_struct[j-1] = '.'\n",
    "            moves.append((''.join(new_struct), 'remove', (i, j)))\n",
    "    \n",
    "    # --- Addition moves: add one new base pair ---\n",
    "    # We consider all candidate pairs (i, j) with j - i >= 4 (minimum hairpin length constraint)\n",
    "    for i in range(1, n+1):\n",
    "        # Only consider i if currently unpaired\n",
    "        if pt[i] != 0:\n",
    "            continue\n",
    "        for j in range(i+3, n+1):\n",
    "            if pt[j] != 0:\n",
    "                continue\n",
    "            # Check if the bases are complementary\n",
    "            if not is_complementary(seq[i-1], seq[j-1]):\n",
    "                continue\n",
    "            \n",
    "            # Check that adding (i, j) does not cross any existing base pair.\n",
    "            # For each existing base pair (k, l) (with k < l), ensure that both k and l lie entirely inside [i, j]\n",
    "            # or entirely outside [i, j]. If one lies inside and the other outside, the new pair would cross.\n",
    "            conflict = False\n",
    "            for k in range(1, n+1):\n",
    "                l = pt[k]\n",
    "                if l > k:  # (k, l) is an existing pair\n",
    "                    in_i = (i < k < j)\n",
    "                    in_j = (i < l < j)\n",
    "                    if in_i != in_j:\n",
    "                        conflict = True\n",
    "                        break\n",
    "            if conflict:\n",
    "                continue\n",
    "            \n",
    "            # Otherwise, adding (i, j) yields a valid structure.\n",
    "            new_struct = list(structure)\n",
    "            new_struct[i-1] = '('\n",
    "            new_struct[j-1] = ')'\n",
    "            moves.append((''.join(new_struct), 'add', (i, j)))\n",
    "    \n",
    "    return moves"
   ]
  },
  {
   "cell_type": "code",
   "execution_count": 33,
   "metadata": {},
   "outputs": [
    {
     "data": {
      "text/plain": [
       "[('(..)......', 'add', (1, 4)),\n",
       " ('(...).....', 'add', (1, 5)),\n",
       " ('(.....)...', 'add', (1, 7)),\n",
       " ('(.......).', 'add', (1, 9)),\n",
       " ('.(.......)', 'add', (2, 10)),\n",
       " ('..(...)...', 'add', (3, 7)),\n",
       " ('..(.....).', 'add', (3, 9)),\n",
       " ('...(.....)', 'add', (4, 10)),\n",
       " ('....(..)..', 'add', (5, 8)),\n",
       " ('....(....)', 'add', (5, 10)),\n",
       " ('......(..)', 'add', (7, 10))]"
      ]
     },
     "execution_count": 33,
     "metadata": {},
     "output_type": "execute_result"
    }
   ],
   "source": [
    "generate_moves(\"GCGCUAUACG\", \"..........\")"
   ]
  },
  {
   "cell_type": "code",
   "execution_count": 19,
   "metadata": {},
   "outputs": [],
   "source": [
    "def move_probabilities(moves, fc):\n",
    "    \"\"\"\n",
    "    For each move outcome in 'moves' (list of (new_structure, move_type, (i, j))),\n",
    "    compute the free energy using the ViennaRNA fold compound 'fc' and return the probability\n",
    "    for each move according to the Boltzmann law.\n",
    "    \n",
    "    Returns a list of probabilities corresponding to the moves.\n",
    "    \"\"\"\n",
    "    energies = []\n",
    "    for new_struct, move_type, pos in moves:\n",
    "        # Evaluate free energy of the outcome structure using ViennaRNA.\n",
    "        # fc.eval_structure() returns energy in kcal/mol.\n",
    "        E = fc.eval_structure(new_struct)\n",
    "        energies.append(E)\n",
    "    \n",
    "    # Compute Boltzmann weight for each outcome: weight = exp(-E/(R*T))\n",
    "    weights = [math.exp(-E/(R_CONST * T_CONST)) for E in energies]\n",
    "    total = sum(weights)\n",
    "    probabilities = [w/total for w in weights] if total != 0 else [0]*len(weights)\n",
    "    return probabilities"
   ]
  },
  {
   "cell_type": "code",
   "execution_count": 20,
   "metadata": {},
   "outputs": [
    {
     "data": {
      "text/plain": [
       "[0, 0]"
      ]
     },
     "execution_count": 20,
     "metadata": {},
     "output_type": "execute_result"
    }
   ],
   "source": [
    "move_probabilities(generate_moves(\"GCGCUGAUACG\", \"((.....))..\"), fc)"
   ]
  },
  {
   "cell_type": "code",
   "execution_count": 21,
   "metadata": {},
   "outputs": [],
   "source": [
    "def select_next_structure(seq, current_structure, fc):\n",
    "    \"\"\"\n",
    "    Given a sequence and current structure, generate all one-base moves,\n",
    "    compute their Boltzmann probabilities, and randomly select one move according\n",
    "    to these probabilities.\n",
    "    \n",
    "    Returns the new structure and the move information (move_type, positions).\n",
    "    If no moves are available, returns the current structure and None.\n",
    "    \"\"\"\n",
    "    moves = generate_moves(seq, current_structure)\n",
    "    if not moves:\n",
    "        return current_structure, None\n",
    "    probs = move_probabilities(seq, current_structure, moves, fc)\n",
    "    r = random.random()\n",
    "    cumulative = 0.0\n",
    "    for move, prob in zip(moves, probs):\n",
    "        cumulative += prob\n",
    "        if r <= cumulative:\n",
    "            return move[0], (move[1], move[2])\n",
    "    return moves[-1][0], (moves[-1][1], moves[-1][2])"
   ]
  },
  {
   "cell_type": "code",
   "execution_count": 22,
   "metadata": {},
   "outputs": [
    {
     "ename": "NameError",
     "evalue": "name 'init_struct' is not defined",
     "output_type": "error",
     "traceback": [
      "\u001b[31m---------------------------------------------------------------------------\u001b[39m",
      "\u001b[31mNameError\u001b[39m                                 Traceback (most recent call last)",
      "\u001b[36mCell\u001b[39m\u001b[36m \u001b[39m\u001b[32mIn[22]\u001b[39m\u001b[32m, line 5\u001b[39m\n\u001b[32m      2\u001b[39m fc = RNA.fold_compound(seq)\n\u001b[32m      4\u001b[39m \u001b[38;5;66;03m# 1) Generate all one-base moves\u001b[39;00m\n\u001b[32m----> \u001b[39m\u001b[32m5\u001b[39m moves = generate_moves(seq, \u001b[43minit_struct\u001b[49m)\n\u001b[32m      6\u001b[39m \u001b[38;5;28mprint\u001b[39m(\u001b[33m\"\u001b[39m\u001b[33mGenerated Moves:\u001b[39m\u001b[33m\"\u001b[39m)\n\u001b[32m      7\u001b[39m \u001b[38;5;28;01mfor\u001b[39;00m m \u001b[38;5;129;01min\u001b[39;00m moves:\n",
      "\u001b[31mNameError\u001b[39m: name 'init_struct' is not defined"
     ]
    }
   ],
   "source": [
    "# Create the ViennaRNA fold compound for our sequence.\n",
    "fc = RNA.fold_compound(seq)\n",
    "\n",
    "# 1) Generate all one-base moves\n",
    "moves = generate_moves(seq, init_struct)\n",
    "print(\"Generated Moves:\")\n",
    "for m in moves:\n",
    "    print(m)\n",
    "\n",
    "# 2) Compute probabilities for each move based on Boltzmann law\n",
    "probs = move_probabilities(seq, init_struct, moves, fc)\n",
    "print(\"\\nMove Probabilities:\")\n",
    "for m, p in zip(moves, probs):\n",
    "    print(f\"Move: {m[1]} at positions {m[2]}, Structure: {m[0]}, Probability: {p:.4f}\")\n",
    "\n",
    "# 3) Randomly select the next structure using the computed probabilities\n",
    "next_struct, move_info = select_next_structure(seq, init_struct, fc)\n",
    "print(\"\\nSelected Next Structure:\")\n",
    "print(\"Structure:\", next_struct)\n",
    "print(\"Move Info:\", move_info)"
   ]
  },
  {
   "cell_type": "code",
   "execution_count": null,
   "metadata": {},
   "outputs": [],
   "source": []
  }
 ],
 "metadata": {
  "kernelspec": {
   "display_name": "biornaenv",
   "language": "python",
   "name": "python3"
  },
  "language_info": {
   "codemirror_mode": {
    "name": "ipython",
    "version": 3
   },
   "file_extension": ".py",
   "mimetype": "text/x-python",
   "name": "python",
   "nbconvert_exporter": "python",
   "pygments_lexer": "ipython3",
   "version": "3.13.1"
  }
 },
 "nbformat": 4,
 "nbformat_minor": 2
}
