{
 "cells": [
  {
   "cell_type": "markdown",
   "metadata": {},
   "source": [
    "**Calculating free energy and probabilities**"
   ]
  },
  {
   "cell_type": "code",
   "execution_count": 6,
   "metadata": {},
   "outputs": [],
   "source": [
    "from IPython.display import SVG\n",
    "import RNA"
   ]
  },
  {
   "cell_type": "code",
   "execution_count": 4,
   "metadata": {},
   "outputs": [
    {
     "name": "stdout",
     "output_type": "stream",
     "text": [
      "Free energy: 6.40 kcal/mol\n"
     ]
    }
   ],
   "source": [
    "# Create a fold compound for an RNA sequence\n",
    "seq = \"GCGCGAUACG\"\n",
    "fc = RNA.fold_compound(seq)\n",
    "\n",
    "# Define a test structure (dot-bracket notation)\n",
    "struct = \"((....))..\"\n",
    "\n",
    "# Evaluate the free energy of the structure\n",
    "energy = fc.eval_structure(struct)\n",
    "print(\"Free energy: {:.2f} kcal/mol\".format(energy))"
   ]
  },
  {
   "cell_type": "code",
   "execution_count": 5,
   "metadata": {},
   "outputs": [
    {
     "data": {
      "image/svg+xml": [
       "<svg xmlns=\"http://www.w3.org/2000/svg\" height=\"452\" width=\"452\">\n",
       "  <script type=\"text/ecmascript\">\n",
       "    <![CDATA[\n",
       "      var shown = 1;\n",
       "      function click() {\n",
       "        var seq = document.getElementById(\"seq\");\n",
       "        if (shown==1) {\n",
       "          seq.setAttribute(\"style\", \"visibility: hidden\");\n",
       "          shown = 0;\n",
       "        } else {\n",
       "          seq.setAttribute(\"style\", \"visibility: visible\");\n",
       "          shown = 1;\n",
       "        }\n",
       "      }\n",
       "    ]]>\n",
       "  </script>\n",
       "  <style type=\"text/css\">\n",
       "    <![CDATA[\n",
       "      .nucleotide {\n",
       "        font-family: SansSerif;\n",
       "      }\n",
       "      .backbone {\n",
       "        stroke: grey;\n",
       "        fill:   none;\n",
       "        stroke-width: 1.5;\n",
       "      }\n",
       "      .basepairs {\n",
       "        stroke: red;\n",
       "        fill:   none;\n",
       "        stroke-width: 2.5;\n",
       "      }\n",
       "    ]]>\n",
       "  </style>\n",
       "\n",
       "  <rect style=\"stroke: white; fill: white\" height=\"452\" x=\"0\" y=\"0\" width=\"452\" onclick=\"click(evt)\"/>\n",
       "  <g transform=\"scale(6.108108,6.108108) translate(-50.500000,-43.500000)\">\n",
       "    <polyline class=\"backbone\" id=\"outline\" points=\"       88.670,64.757       80.561,77.376       65.744,84.406       64.694,100.771       78.490,109.637       92.940,101.883       93.179,85.486       101.289,72.867       111.618,63.739       106.453,50.958     \"/>\n",
       "    <g id=\"pairs\">\n",
       "      <line class=\"basepairs\" id=\"1,8\" x1=\"88.67012\" y1=\"64.75722\" x2=\"101.28892\" y2=\"72.86683\"/>\n",
       "      <line class=\"basepairs\" id=\"2,7\" x1=\"80.56050\" y1=\"77.37601\" x2=\"93.17931\" y2=\"85.48563\"/>\n",
       "    </g>\n",
       "    <g transform=\"translate(-4.6, 4)\" id=\"seq\">\n",
       "      <text class=\"nucleotide\" x=\"88.670\" y=\"64.757\">G</text>\n",
       "      <text class=\"nucleotide\" x=\"80.561\" y=\"77.376\">C</text>\n",
       "      <text class=\"nucleotide\" x=\"65.744\" y=\"84.406\">G</text>\n",
       "      <text class=\"nucleotide\" x=\"64.694\" y=\"100.771\">C</text>\n",
       "      <text class=\"nucleotide\" x=\"78.490\" y=\"109.637\">G</text>\n",
       "      <text class=\"nucleotide\" x=\"92.940\" y=\"101.883\">A</text>\n",
       "      <text class=\"nucleotide\" x=\"93.179\" y=\"85.486\">U</text>\n",
       "      <text class=\"nucleotide\" x=\"101.289\" y=\"72.867\">A</text>\n",
       "      <text class=\"nucleotide\" x=\"111.618\" y=\"63.739\">C</text>\n",
       "      <text class=\"nucleotide\" x=\"106.453\" y=\"50.958\">G</text>\n",
       "    </g>\n",
       "  </g>\n",
       "<script type=\"text/ecmascript\">\n",
       "<![CDATA[\n",
       "  let sequence = \"GCGCGAUACG\";\n",
       "  let structure = \"((....))..\";\n",
       "  const basepairs = [\n",
       "    { i: 1, j: 8, type: \"cWW\" },\n",
       "    { i: 2, j: 7, type: \"cWW\" }];\n",
       "  const coords = [\n",
       "    { x: 88.670, y: 64.757 },\n",
       "    { x: 80.561, y: 77.376 },\n",
       "    { x: 65.744, y: 84.406 },\n",
       "    { x: 64.694, y: 100.771 },\n",
       "    { x: 78.490, y: 109.637 },\n",
       "    { x: 92.940, y: 101.883 },\n",
       "    { x: 93.179, y: 85.486 },\n",
       "    { x: 101.289, y: 72.867 },\n",
       "    { x: 111.618, y: 63.739 },\n",
       "    { x: 106.453, y: 50.958 }];\n",
       "]]>\n",
       "</script>\n",
       "</svg>"
      ],
      "text/plain": [
       "<IPython.core.display.SVG object>"
      ]
     },
     "execution_count": 5,
     "metadata": {},
     "output_type": "execute_result"
    }
   ],
   "source": [
    "RNA.svg_rna_plot(seq, structure=struct, ssfile=\"tmp.svg\")\n",
    "SVG(\"tmp.svg\")"
   ]
  },
  {
   "cell_type": "code",
   "execution_count": null,
   "metadata": {},
   "outputs": [],
   "source": []
  }
 ],
 "metadata": {
  "kernelspec": {
   "display_name": "biornaenv",
   "language": "python",
   "name": "python3"
  },
  "language_info": {
   "codemirror_mode": {
    "name": "ipython",
    "version": 3
   },
   "file_extension": ".py",
   "mimetype": "text/x-python",
   "name": "python",
   "nbconvert_exporter": "python",
   "pygments_lexer": "ipython3",
   "version": "3.13.1"
  }
 },
 "nbformat": 4,
 "nbformat_minor": 2
}
