{
 "cells": [
  {
   "cell_type": "markdown",
   "metadata": {},
   "source": [
    "**Calculating free energy and probabilities**"
   ]
  },
  {
   "cell_type": "code",
   "execution_count": 10,
   "metadata": {},
   "outputs": [
    {
     "name": "stdout",
     "output_type": "stream",
     "text": [
      "The autoreload extension is already loaded. To reload it, use:\n",
      "  %reload_ext autoreload\n"
     ]
    }
   ],
   "source": [
    "from IPython.display import SVG\n",
    "import RNA\n",
    "import math\n",
    "import random\n",
    "import path_finding as pf\n",
    "import evolution as ev\n",
    "\n",
    "%load_ext autoreload\n",
    "%autoreload 2"
   ]
  },
  {
   "cell_type": "code",
   "execution_count": 14,
   "metadata": {},
   "outputs": [
    {
     "name": "stdout",
     "output_type": "stream",
     "text": [
      "Free energy: 6.40 kcal/mol\n"
     ]
    }
   ],
   "source": [
    "# Create a fold compound for an RNA sequence\n",
    "seq = \"GCGCGAUACG\"\n",
    "fc = RNA.fold_compound(seq)\n",
    "\n",
    "# Define a test structure (dot-bracket notation)\n",
    "struct = \"((....))..\"\n",
    "\n",
    "# Evaluate the free energy of the structure\n",
    "energy = fc.eval_structure(struct)\n",
    "print(\"Free energy: {:.2f} kcal/mol\".format(energy))"
   ]
  },
  {
   "cell_type": "code",
   "execution_count": 4,
   "metadata": {},
   "outputs": [
    {
     "data": {
      "image/svg+xml": [
       "<svg xmlns=\"http://www.w3.org/2000/svg\" height=\"452\" width=\"452\">\n",
       "  <script type=\"text/ecmascript\">\n",
       "    <![CDATA[\n",
       "      var shown = 1;\n",
       "      function click() {\n",
       "        var seq = document.getElementById(\"seq\");\n",
       "        if (shown==1) {\n",
       "          seq.setAttribute(\"style\", \"visibility: hidden\");\n",
       "          shown = 0;\n",
       "        } else {\n",
       "          seq.setAttribute(\"style\", \"visibility: visible\");\n",
       "          shown = 1;\n",
       "        }\n",
       "      }\n",
       "    ]]>\n",
       "  </script>\n",
       "  <style type=\"text/css\">\n",
       "    <![CDATA[\n",
       "      .nucleotide {\n",
       "        font-family: SansSerif;\n",
       "      }\n",
       "      .backbone {\n",
       "        stroke: grey;\n",
       "        fill:   none;\n",
       "        stroke-width: 1.5;\n",
       "      }\n",
       "      .basepairs {\n",
       "        stroke: red;\n",
       "        fill:   none;\n",
       "        stroke-width: 2.5;\n",
       "      }\n",
       "    ]]>\n",
       "  </style>\n",
       "\n",
       "  <rect style=\"stroke: white; fill: white\" height=\"452\" x=\"0\" y=\"0\" width=\"452\" onclick=\"click(evt)\"/>\n",
       "  <g transform=\"scale(6.108108,6.108108) translate(-50.500000,-43.500000)\">\n",
       "    <polyline class=\"backbone\" id=\"outline\" points=\"       88.670,64.757       80.561,77.376       65.744,84.406       64.694,100.771       78.490,109.637       92.940,101.883       93.179,85.486       101.289,72.867       111.618,63.739       106.453,50.958     \"/>\n",
       "    <g id=\"pairs\">\n",
       "      <line class=\"basepairs\" id=\"1,8\" x1=\"88.67012\" y1=\"64.75722\" x2=\"101.28892\" y2=\"72.86683\"/>\n",
       "      <line class=\"basepairs\" id=\"2,7\" x1=\"80.56050\" y1=\"77.37601\" x2=\"93.17931\" y2=\"85.48563\"/>\n",
       "    </g>\n",
       "    <g transform=\"translate(-4.6, 4)\" id=\"seq\">\n",
       "      <text class=\"nucleotide\" x=\"88.670\" y=\"64.757\">G</text>\n",
       "      <text class=\"nucleotide\" x=\"80.561\" y=\"77.376\">C</text>\n",
       "      <text class=\"nucleotide\" x=\"65.744\" y=\"84.406\">G</text>\n",
       "      <text class=\"nucleotide\" x=\"64.694\" y=\"100.771\">C</text>\n",
       "      <text class=\"nucleotide\" x=\"78.490\" y=\"109.637\">G</text>\n",
       "      <text class=\"nucleotide\" x=\"92.940\" y=\"101.883\">A</text>\n",
       "      <text class=\"nucleotide\" x=\"93.179\" y=\"85.486\">U</text>\n",
       "      <text class=\"nucleotide\" x=\"101.289\" y=\"72.867\">A</text>\n",
       "      <text class=\"nucleotide\" x=\"111.618\" y=\"63.739\">C</text>\n",
       "      <text class=\"nucleotide\" x=\"106.453\" y=\"50.958\">G</text>\n",
       "    </g>\n",
       "  </g>\n",
       "<script type=\"text/ecmascript\">\n",
       "<![CDATA[\n",
       "  let sequence = \"GCGCGAUACG\";\n",
       "  let structure = \"((....))..\";\n",
       "  const basepairs = [\n",
       "    { i: 1, j: 8, type: \"cWW\" },\n",
       "    { i: 2, j: 7, type: \"cWW\" }];\n",
       "  const coords = [\n",
       "    { x: 88.670, y: 64.757 },\n",
       "    { x: 80.561, y: 77.376 },\n",
       "    { x: 65.744, y: 84.406 },\n",
       "    { x: 64.694, y: 100.771 },\n",
       "    { x: 78.490, y: 109.637 },\n",
       "    { x: 92.940, y: 101.883 },\n",
       "    { x: 93.179, y: 85.486 },\n",
       "    { x: 101.289, y: 72.867 },\n",
       "    { x: 111.618, y: 63.739 },\n",
       "    { x: 106.453, y: 50.958 }];\n",
       "]]>\n",
       "</script>\n",
       "</svg>"
      ],
      "text/plain": [
       "<IPython.core.display.SVG object>"
      ]
     },
     "execution_count": 4,
     "metadata": {},
     "output_type": "execute_result"
    }
   ],
   "source": [
    "RNA.svg_rna_plot(seq, structure=struct, ssfile=\"tmp.svg\")\n",
    "SVG(\"tmp.svg\")"
   ]
  },
  {
   "cell_type": "code",
   "execution_count": 11,
   "metadata": {},
   "outputs": [
    {
     "data": {
      "text/plain": [
       "[('..........', 'remove', (1, 4)),\n",
       " ('(..)(..)..', 'add', (5, 8)),\n",
       " ('(..)(....)', 'add', (5, 10)),\n",
       " ('(..)..(..)', 'add', (7, 10))]"
      ]
     },
     "execution_count": 11,
     "metadata": {},
     "output_type": "execute_result"
    }
   ],
   "source": [
    "pf.generate_moves(\"GCGCUAUACG\", \"(..)......\")"
   ]
  },
  {
   "cell_type": "code",
   "execution_count": 16,
   "metadata": {},
   "outputs": [
    {
     "ename": "TypeError",
     "evalue": "move_probabilities() missing 1 required positional argument: 'fc'",
     "output_type": "error",
     "traceback": [
      "\u001b[1;31m---------------------------------------------------------------------------\u001b[0m",
      "\u001b[1;31mTypeError\u001b[0m                                 Traceback (most recent call last)",
      "Cell \u001b[1;32mIn[16], line 2\u001b[0m\n\u001b[0;32m      1\u001b[0m moves \u001b[38;5;241m=\u001b[39m pf\u001b[38;5;241m.\u001b[39mgenerate_moves(\u001b[38;5;124m\"\u001b[39m\u001b[38;5;124mGCGCUAUACG\u001b[39m\u001b[38;5;124m\"\u001b[39m, \u001b[38;5;124m\"\u001b[39m\u001b[38;5;124m(..)(..)..\u001b[39m\u001b[38;5;124m\"\u001b[39m)\n\u001b[1;32m----> 2\u001b[0m \u001b[43mpf\u001b[49m\u001b[38;5;241;43m.\u001b[39;49m\u001b[43mmove_probabilities\u001b[49m\u001b[43m(\u001b[49m\u001b[43mmoves\u001b[49m\u001b[43m,\u001b[49m\u001b[43m \u001b[49m\u001b[43mfc\u001b[49m\u001b[43m)\u001b[49m\n",
      "\u001b[1;31mTypeError\u001b[0m: move_probabilities() missing 1 required positional argument: 'fc'"
     ]
    }
   ],
   "source": [
    "moves = pf.generate_moves(\"GCGCUAUACG\", \"(..)(..)..\")\n",
    "pf.move_probabilities(moves, fc)"
   ]
  },
  {
   "cell_type": "code",
   "execution_count": 13,
   "metadata": {},
   "outputs": [
    {
     "name": "stdout",
     "output_type": "stream",
     "text": [
      "Generated Moves:\n",
      "('(..)......', 'add', (1, 4))\n",
      "('(.....)...', 'add', (1, 7))\n",
      "('(.......).', 'add', (1, 9))\n",
      "('.(..).....', 'add', (2, 5))\n",
      "('.(.......)', 'add', (2, 10))\n",
      "('..(...)...', 'add', (3, 7))\n",
      "('..(.....).', 'add', (3, 9))\n",
      "('...(.....)', 'add', (4, 10))\n",
      "('....(...).', 'add', (5, 9))\n",
      "('......(..)', 'add', (7, 10))\n",
      "\n",
      "Move Probabilities:\n",
      "Move: add at positions (1, 4), Structure: (..)......, Probability: 0.0000\n",
      "Move: add at positions (1, 7), Structure: (.....)..., Probability: 0.0203\n",
      "Move: add at positions (1, 9), Structure: (.......)., Probability: 0.3023\n",
      "Move: add at positions (2, 5), Structure: .(..)....., Probability: 0.0000\n",
      "Move: add at positions (2, 10), Structure: .(.......), Probability: 0.0784\n",
      "Move: add at positions (3, 7), Structure: ..(...)..., Probability: 0.0159\n",
      "Move: add at positions (3, 9), Structure: ..(.....)., Probability: 0.3417\n",
      "Move: add at positions (4, 10), Structure: ...(.....), Probability: 0.1133\n",
      "Move: add at positions (5, 9), Structure: ....(...)., Probability: 0.1281\n",
      "Move: add at positions (7, 10), Structure: ......(..), Probability: 0.0000\n",
      "\n",
      "Selected Next Structure:\n",
      "Structure: (.......).\n",
      "Move Info: ('add', (1, 9))\n"
     ]
    }
   ],
   "source": [
    "# Create the ViennaRNA fold compound for our sequence.\n",
    "fc = RNA.fold_compound(seq)\n",
    "init_struct = \"..........\"\n",
    "\n",
    "# 1) Generate all one-base moves\n",
    "moves = pf.generate_moves(seq, init_struct)\n",
    "print(\"Generated Moves:\")\n",
    "for m in moves:\n",
    "    print(m)\n",
    "\n",
    "# 2) Compute probabilities for each move based on Boltzmann law\n",
    "probs = pf.move_probabilities(moves, fc)\n",
    "print(\"\\nMove Probabilities:\")\n",
    "for m, p in zip(moves, probs):\n",
    "    print(f\"Move: {m[1]} at positions {m[2]}, Structure: {m[0]}, Probability: {p:.4f}\")\n",
    "\n",
    "# 3) Randomly select the next structure using the computed probabilities\n",
    "next_struct, move_info = pf.select_next_structure(seq, init_struct, fc)\n",
    "print(\"\\nSelected Next Structure:\")\n",
    "print(\"Structure:\", next_struct)\n",
    "print(\"Move Info:\", move_info)"
   ]
  },
  {
   "cell_type": "code",
   "execution_count": 37,
   "metadata": {},
   "outputs": [
    {
     "name": "stdout",
     "output_type": "stream",
     "text": [
      "Generation 0:\n",
      "\n",
      "Generation 1:\n",
      "\n",
      "Generation 2:\n",
      "\n",
      "Generation 3:\n",
      "\n",
      "Generation 4:\n",
      "\n",
      "Generation 5:\n",
      "\n",
      "Generation 6:\n",
      "\n",
      "Generation 7:\n",
      "\n",
      "Generation 8:\n",
      "\n",
      "Generation 9:\n",
      "\n",
      "Best candidate after evolution:\n",
      "Structure: ...((...))., Distance: 0, Energy barrier: 0 kcal/mol\n",
      "Energy barrier: 0 kcal/mol\n"
     ]
    }
   ],
   "source": [
    "# Example data:\n",
    "seq = \"GGGGAAACUCC\"\n",
    "start_struct = \"(..(...)..)\"\n",
    "end_struct = \"...((...)).\"  # target structure\n",
    "\n",
    "# Create a fold compound for the sequence (ViennaRNA initialization)\n",
    "fc = RNA.fold_compound(seq)\n",
    "\n",
    "# 1. Initialize population of size N\n",
    "N = 100\n",
    "population = ev.init_population(seq, start_struct, N)\n",
    "\n",
    "# Let's run evolution for a number of steps and print progress\n",
    "max_steps = 100\n",
    "step = 0\n",
    "print(\"Generation 0:\")\n",
    "# for ind in population:\n",
    "#     d = structure_distance(ind['structure'], end_struct)\n",
    "#     print(f\"Structure: {ind['structure']}, Distance: {d}\")\n",
    "\n",
    "while step<max_steps and ev.compute_barrier(population) is None:\n",
    "    step += 1\n",
    "    population = ev.evolve_population_inclusive(population, seq, fc, start_struct, end_struct)\n",
    "    # For reporting, update distances and print\n",
    "    print(f\"\\nGeneration {step}:\")\n",
    "    #for ind in population:\n",
    "        #print(f\"Structure: {ind['structure']}, Distance: {ind['distance']}, Move: {ind['move_info']}\")\n",
    "\n",
    "# Optionally, report the best candidate at the final generation:\n",
    "best = min(population, key=lambda ind: ind['distance'])\n",
    "print(\"\\nBest candidate after evolution:\")\n",
    "print(f\"Structure: {best['structure']}, Distance: {best['distance']}, Energy barrier: {best['highest_energy']} kcal/mol\")\n",
    "print(f\"Energy barrier: {ev.compute_barrier(population)} kcal/mol\")"
   ]
  },
  {
   "cell_type": "code",
   "execution_count": 79,
   "metadata": {},
   "outputs": [
    {
     "name": "stdout",
     "output_type": "stream",
     "text": [
      "Generation 0:\n",
      "\n",
      "Generation 1:\n",
      "{'structure': '......................(....................)...((.............))..................', 'distance': 38, 'highest_energy': 0}\n",
      "\n",
      "Generation 2:\n",
      "{'structure': '......................(....................)...(((...........)))..................', 'distance': 36, 'highest_energy': 0}\n",
      "\n",
      "Generation 3:\n",
      "{'structure': '...............................................(((...........)))..................', 'distance': 36, 'highest_energy': 0}\n",
      "\n",
      "Generation 4:\n",
      "{'structure': '..............................................((((...........)))).................', 'distance': 34, 'highest_energy': 0}\n",
      "\n",
      "Generation 5:\n",
      "{'structure': '.............................................(((((...........)))))................', 'distance': 32, 'highest_energy': 0}\n",
      "\n",
      "Generation 6:\n",
      "{'structure': '.............................................((((((.........))))))................', 'distance': 30, 'highest_energy': 0}\n",
      "\n",
      "Generation 7:\n",
      "{'structure': '.............................................(((((((.......)))))))................', 'distance': 28, 'highest_energy': 0}\n",
      "\n",
      "Generation 8:\n",
      "{'structure': '......................(........).............(((((((.......)))))))................', 'distance': 26, 'highest_energy': 0}\n",
      "\n",
      "Generation 9:\n",
      "{'structure': '.....................((........))............(((((((.......)))))))................', 'distance': 24, 'highest_energy': 0}\n",
      "\n",
      "Generation 10:\n",
      "{'structure': '.....................((.......)).............(((((((.......)))))))................', 'distance': 24, 'highest_energy': 0}\n",
      "\n",
      "Generation 11:\n",
      "{'structure': '....................(((.......)))............(((((((.......)))))))................', 'distance': 22, 'highest_energy': 0}\n",
      "\n",
      "Generation 12:\n",
      "{'structure': '....................(((.......)))............(((((((.......)))))))................', 'distance': 22, 'highest_energy': 0}\n",
      "\n",
      "Generation 13:\n",
      "{'structure': '...................((((.......))))...........(((((((.......)))))))................', 'distance': 20, 'highest_energy': 0}\n",
      "\n",
      "Generation 14:\n",
      "{'structure': '...................((((.......))))...........(((((((.......)))))))................', 'distance': 20, 'highest_energy': 0}\n",
      "\n",
      "Generation 15:\n",
      "{'structure': '.(.(...(............((........)).............(((((((.......))))))).....)...)).....', 'distance': 20, 'highest_energy': 0}\n",
      "\n",
      "Generation 16:\n",
      "{'structure': '..........(........((((.......))))...........(((((((.......)))))))..............).', 'distance': 18, 'highest_energy': 0}\n",
      "\n",
      "Generation 17:\n",
      "{'structure': '.(.................((((.......))))...........(((((((.......)))))))........).......', 'distance': 18, 'highest_energy': 0}\n",
      "\n",
      "Generation 18:\n",
      "{'structure': '......(............((((.......))))...........(((((((.......))))))).........)......', 'distance': 18, 'highest_energy': 0}\n",
      "\n",
      "Generation 19:\n",
      "{'structure': '.(.................((((.......))))...........(((((((.......))))))).............)..', 'distance': 18, 'highest_energy': 0}\n",
      "\n",
      "Generation 20:\n",
      "{'structure': '......((...........((((.......))))...........(((((((.......)))))))........))......', 'distance': 16, 'highest_energy': 0}\n",
      "\n",
      "Generation 21:\n",
      "{'structure': '......((.(.........((((.......))))...........(((((((.......))))))).....)..))......', 'distance': 14, 'highest_energy': 0}\n",
      "\n",
      "Generation 22:\n",
      "{'structure': '......((((.........((((.......))))...........(((((((.......))))))).....).)))......', 'distance': 12, 'highest_energy': 0}\n",
      "\n",
      "Generation 23:\n",
      "{'structure': '......(((((........((((.......))))...........(((((((.......)))))))....)).)))......', 'distance': 10, 'highest_energy': 0}\n",
      "\n",
      "Generation 24:\n",
      "{'structure': '......(((((.(......((((.......))))...........(((((((.......)))))))..).)).)))......', 'distance': 8, 'highest_energy': 0}\n",
      "\n",
      "Generation 25:\n",
      "{'structure': '......(((((((......((((.......))))...........(((((((.......)))))))..)))).)))......', 'distance': 6, 'highest_energy': 0}\n",
      "\n",
      "Generation 26:\n",
      "{'structure': '...(..(((((((......((((.......))))...........(((((((.......)))))))..)))).)))...)..', 'distance': 4, 'highest_energy': 0}\n",
      "\n",
      "Generation 27:\n",
      "{'structure': '...(..(((((((......((((.......))))...........(((((((.......)))))))..)))).)))...)..', 'distance': 4, 'highest_energy': 0}\n",
      "\n",
      "Generation 28:\n",
      "{'structure': '..((..(((((((......((((.......))))...........(((((((.......)))))))..)))).)))...)).', 'distance': 2, 'highest_energy': 0}\n",
      "\n",
      "Generation 29:\n",
      "{'structure': '.(((..(((((((......((((.......))))...........(((((((.......)))))))..)))).)))...)))', 'distance': 0, 'highest_energy': 0}\n",
      "\n",
      "Best candidate after evolution:\n",
      "Structure: .(((..(((((((......((((.......))))...........(((((((.......)))))))..)))).)))...))), Distance: 0, Energy barrier: 0 kcal/mol\n",
      "Number of steps necessary to reach the target structure: 29\n"
     ]
    }
   ],
   "source": [
    "# Example data 2:\n",
    "seq = \"ACACGACCUCAUAUAAUCUUGGGAAUAUGGCCCAUAAGUUUCUACCCGGCAACCGUAAAUUGCCGGACUAUGCAGGGAAGUG\"\n",
    "start_struct = \"......................(....................)....(.............)...................\"\n",
    "end_struct = \".(((..(((((((......((((.......))))...........(((((((.......)))))))..)))).)))...)))\"  # target structure\n",
    "\n",
    "# Create a fold compound for the sequence (ViennaRNA initialization)\n",
    "fc = RNA.fold_compound(seq)\n",
    "\n",
    "# 1. Initialize population of size N\n",
    "N = 100\n",
    "population = ev.init_population(seq, start_struct, N)\n",
    "\n",
    "max_steps = 500\n",
    "step = 0\n",
    "print(\"Generation 0:\")\n",
    "# for ind in population:\n",
    "#     d = structure_distance(ind['structure'], end_struct)\n",
    "#     print(f\"Structure: {ind['structure']}, Distance: {d}\")\n",
    "\n",
    "while step<max_steps and ev.compute_barrier(population) is None:\n",
    "    step += 1\n",
    "    population = ev.evolve_population_inclusive(population, seq, fc, start_struct, end_struct)\n",
    "    # For reporting, update distances and print\n",
    "    print(f\"\\nGeneration {step}:\")\n",
    "    print(population[0])\n",
    "    #for ind in population:\n",
    "        #print(f\"Structure: {ind['structure']}, Distance: {ind['distance']}, Move: {ind['move_info']}\")\n",
    "\n",
    "best = min(population, key=lambda ind: ind['distance'])\n",
    "print(\"\\nBest candidate after evolution:\")\n",
    "print(f\"Structure: {best['structure']}, Distance: {best['distance']}, Energy barrier: {best['highest_energy']} kcal/mol\")\n",
    "print(f\"Number of steps necessary to reach the target structure: {step}\")"
   ]
  },
  {
   "cell_type": "markdown",
   "metadata": {},
   "source": [
    "Idées:\n",
    "\n",
    "Changer la température\n",
    "Faire du transfert learning\n",
    "Mettre une pénalité suivant la distance ?, l'énergie\n"
   ]
  },
  {
   "cell_type": "code",
   "execution_count": 84,
   "metadata": {},
   "outputs": [
    {
     "name": "stdout",
     "output_type": "stream",
     "text": [
      "\n",
      "Generation 10:\n",
      "{'structure': '......(((...........(((.......)))............(((((...........))))).......)))......', 'distance': 20, 'highest_energy': 9.300000190734863}\n",
      "\n",
      "Generation 20:\n",
      "{'structure': '......................(.......).................(.............)...................', 'distance': 2, 'highest_energy': 26.40000009536743}\n",
      "\n",
      "Generation 30:\n",
      "{'structure': '......................(.......).................(.............)...................', 'distance': 2, 'highest_energy': 26.40000009536743}\n",
      "\n",
      "Generation 40:\n",
      "{'structure': '......................(.......).................(.............)...................', 'distance': 2, 'highest_energy': 26.40000009536743}\n",
      "\n",
      "Generation 50:\n",
      "{'structure': '......................(.......).................(.............)...................', 'distance': 2, 'highest_energy': 26.40000009536743}\n",
      "\n",
      "Generation 60:\n",
      "{'structure': '......................(.......).................(.............)...................', 'distance': 2, 'highest_energy': 26.40000009536743}\n",
      "\n",
      "Generation 70:\n",
      "{'structure': '......................(.......).................(.............)...................', 'distance': 2, 'highest_energy': 26.40000009536743}\n",
      "\n",
      "Generation 80:\n",
      "{'structure': '......................(.......).................(.............)...................', 'distance': 2, 'highest_energy': 26.40000009536743}\n",
      "\n",
      "Generation 90:\n",
      "{'structure': '......................(.......).................(.............)...................', 'distance': 2, 'highest_energy': 26.40000009536743}\n",
      "\n",
      "Generation 100:\n",
      "{'structure': '......................(.......).................(.............)...................', 'distance': 2, 'highest_energy': 26.40000009536743}\n"
     ]
    },
    {
     "data": {
      "text/plain": [
       "({'structure': '......................(.......).................(.............)...................',\n",
       "  'distance': 2,\n",
       "  'highest_energy': 26.40000009536743},\n",
       " 100)"
      ]
     },
     "execution_count": 84,
     "metadata": {},
     "output_type": "execute_result"
    }
   ],
   "source": [
    "ev.best_folding(seq, end_struct, start_struct, N=100, max_steps=100, alpha=0.3, T=T_CONST, beta=10)"
   ]
  },
  {
   "cell_type": "code",
   "execution_count": null,
   "metadata": {},
   "outputs": [],
   "source": []
  },
  {
   "cell_type": "code",
   "execution_count": null,
   "metadata": {},
   "outputs": [],
   "source": []
  }
 ],
 "metadata": {
  "kernelspec": {
   "display_name": "bio_seq",
   "language": "python",
   "name": "python3"
  },
  "language_info": {
   "codemirror_mode": {
    "name": "ipython",
    "version": 3
   },
   "file_extension": ".py",
   "mimetype": "text/x-python",
   "name": "python",
   "nbconvert_exporter": "python",
   "pygments_lexer": "ipython3",
   "version": "3.12.8"
  }
 },
 "nbformat": 4,
 "nbformat_minor": 2
}
